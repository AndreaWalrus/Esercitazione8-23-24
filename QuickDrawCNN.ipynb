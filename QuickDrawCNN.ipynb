{
  "nbformat": 4,
  "nbformat_minor": 0,
  "metadata": {
    "colab": {
      "provenance": [],
      "gpuType": "T4",
      "include_colab_link": true
    },
    "kernelspec": {
      "name": "python3",
      "display_name": "Python 3"
    },
    "language_info": {
      "name": "python"
    },
    "accelerator": "GPU"
  },
  "cells": [
    {
      "cell_type": "markdown",
      "metadata": {
        "id": "view-in-github",
        "colab_type": "text"
      },
      "source": [
        "<a href=\"https://colab.research.google.com/github/AndreaWalrus/Esercitazione8-23-24/blob/main/QuickDrawCNN.ipynb\" target=\"_parent\"><img src=\"https://colab.research.google.com/assets/colab-badge.svg\" alt=\"Open In Colab\"/></a>"
      ]
    },
    {
      "cell_type": "markdown",
      "source": [
        "# Esercizio Quick Draw"
      ],
      "metadata": {
        "id": "Gz-HPror3pbG"
      }
    },
    {
      "cell_type": "code",
      "execution_count": 17,
      "metadata": {
        "id": "ICEkvEvp2HJD",
        "colab": {
          "base_uri": "https://localhost:8080/"
        },
        "outputId": "9beb514d-782e-4a90-86ce-4cd10dab8d9d"
      },
      "outputs": [
        {
          "output_type": "stream",
          "name": "stdout",
          "text": [
            "Using PyTorch version: 2.6.0+cu124  Device: cuda\n"
          ]
        }
      ],
      "source": [
        "%matplotlib inline\n",
        "\n",
        "import torch\n",
        "import torch.nn as nn\n",
        "import torch.nn.functional as F\n",
        "from torch.utils.data import DataLoader, SubsetRandomSampler, ConcatDataset, Dataset, Subset, random_split, IterableDataset, get_worker_info\n",
        "from torchvision import datasets\n",
        "from torchvision.transforms import v2\n",
        "from torchvision.models import resnet50, ResNet50_Weights\n",
        "import tensorflow as tf\n",
        "\n",
        "import numpy as np\n",
        "import matplotlib.pyplot as plt\n",
        "from PIL import Image, ImageDraw\n",
        "import pandas as pd\n",
        "import itertools\n",
        "\n",
        "# Import tensorboard logger from PyTorch\n",
        "from torch.utils.tensorboard import SummaryWriter\n",
        "\n",
        "# This is when we use GPU instance to run colab.\n",
        "# How to change Runtime in colab??\n",
        "# Go to Runtime-> Change Runtime type -> Hardware Accelerator -> GPU\n",
        "\n",
        "if torch.cuda.is_available():\n",
        "    device = torch.device('cuda')\n",
        "else:\n",
        "    device = torch.device('cpu')\n",
        "\n",
        "print('Using PyTorch version:', torch.__version__, ' Device:', device)\n",
        "torch.manual_seed(42)\n",
        "torch.multiprocessing.set_sharing_strategy('file_system')"
      ]
    },
    {
      "cell_type": "code",
      "source": [
        "import struct\n",
        "import os, re, random\n",
        "\n",
        "def unpack_drawing(fh):\n",
        "    # Read one drawing record from the binary file handle\n",
        "    key_id,       = struct.unpack('Q',  fh.read(8))\n",
        "    country_code, = struct.unpack('2s', fh.read(2))\n",
        "    recognized,   = struct.unpack('b',  fh.read(1))\n",
        "    timestamp,    = struct.unpack('I',  fh.read(4))\n",
        "    n_strokes,    = struct.unpack('H',  fh.read(2))\n",
        "\n",
        "    strokes = []\n",
        "    for _ in range(n_strokes):\n",
        "        n_pts, = struct.unpack('H', fh.read(2))\n",
        "        fmt    = f'{n_pts}B'\n",
        "        x_pts  = struct.unpack(fmt, fh.read(n_pts))\n",
        "        y_pts  = struct.unpack(fmt, fh.read(n_pts))\n",
        "        strokes.append((x_pts, y_pts))\n",
        "\n",
        "    return {'strokes': strokes}\n",
        "\n",
        "def strokes_to_image(raw_strokes, size=256, line_width=1):\n",
        "    \"\"\"\n",
        "    raw_strokes: list of strokes, each ([x0,x1,...], [y0,y1,...])\n",
        "                 where each x_i, y_i is already in [0..255] integer\n",
        "    size:       canvas size (should be 256)\n",
        "    line_width: thickness of the drawn line (in pixels)\n",
        "    \"\"\"\n",
        "    # White canvas\n",
        "    img = Image.new(\"L\", (size, size), color=255)\n",
        "    draw = ImageDraw.Draw(img)\n",
        "\n",
        "    # Draw each stroke without any rescaling\n",
        "    for x_pts, y_pts in raw_strokes:\n",
        "        # Make sure points are (x,y) tuples of ints\n",
        "        points = list(zip(map(int, x_pts), map(int, y_pts)))\n",
        "        if len(points) >= 2:\n",
        "            draw.line(points, fill=0, width=line_width)\n",
        "\n",
        "    # Return as NumPy array\n",
        "    return np.array(img, dtype=np.uint8)\n",
        "\n",
        "def load_quickdraw_bin(filename, n_samples=None):\n",
        "    images = []\n",
        "    with open(filename, 'rb') as fh:\n",
        "        for i in range(n_samples):\n",
        "            try:\n",
        "                rec = unpack_drawing(fh)\n",
        "            except struct.error:\n",
        "                break\n",
        "            # Render strokes in 256×256 and add to list\n",
        "            img = strokes_to_image(rec['strokes'], size=256, line_width=1)\n",
        "            images.append(img)\n",
        "            if i%1000 == 0:\n",
        "              print('Progress: '+str(int(100*i/n_samples))+'%')\n",
        "\n",
        "    arr = np.stack(images, axis=0)\n",
        "    arr = arr[:, np.newaxis, :, :].astype(np.uint8)\n",
        "    return arr\n",
        "\n",
        "def parseQuickDraw(dir, n_samples):\n",
        "  imgs_array = None\n",
        "  labels_array = None\n",
        "  i=0\n",
        "  names = []\n",
        "  for f in os.listdir(dir):\n",
        "    x = re.search(r\"(.+)\\.bin\", f)\n",
        "    name = str(x.group(1))\n",
        "    names.append(name)\n",
        "    print('Loading: '+dir+name+'.bin')\n",
        "\n",
        "    # Load all images for each file in imgs and triplicate the channel layer\n",
        "    imgs = load_quickdraw_bin(dir+name+'.bin', n_samples=n_samples)\n",
        "    imgs = np.repeat(imgs, 3, axis=1)\n",
        "\n",
        "    # Initialize the label_array and fill it up to n_samples with the file name\n",
        "    labels = [name]\n",
        "    labels = np.reshape(labels, (1, 1))\n",
        "    labels = np.repeat(labels, n_samples, axis=0)\n",
        "\n",
        "\n",
        "    if i==0:\n",
        "      imgs_array = imgs\n",
        "      labels_array = labels\n",
        "    else:\n",
        "      imgs_array = np.concatenate((imgs_array, imgs), axis=0)\n",
        "      labels_array = np.concatenate((labels_array, labels), axis=0)\n",
        "\n",
        "    i+=1\n",
        "    print('Loaded: '+dir+name+'.bin\\n')\n",
        "\n",
        "    '''\n",
        "    # Save both arrays as .npz for easy of access\n",
        "    with open(dir+'../npy/'+name+'.npz', 'wb') as f:\n",
        "      np.savez(f, label=labels, img=imgs)\n",
        "      print('Saved: '+dir+'../npy/'+name+'.npz\\n')\n",
        "    '''\n",
        "  print(imgs_array.shape)\n",
        "  print(labels_array.shape)\n",
        "  print('Finished')\n",
        "  return imgs_array, labels_array, names"
      ],
      "metadata": {
        "id": "X7u-llVvUXDy"
      },
      "execution_count": 18,
      "outputs": []
    },
    {
      "cell_type": "code",
      "source": [
        "class QuickDrawMapDataset(Dataset):\n",
        "    \"\"\"\n",
        "    Map-style Dataset for QuickDraw .bin files.\n",
        "    Builds an index of byte offsets for each record to allow random access.\n",
        "\n",
        "    Args:\n",
        "        bin_dir (str): directory containing <class>.bin files\n",
        "        classes (List[str]): list of class basenames (without .bin)\n",
        "        n_per_class (int|None): max records to index per class (None for all)\n",
        "        transform (callable|None): torchvision transform to apply to 3-channel tensor\n",
        "    \"\"\"\n",
        "    def __init__(self, bin_dir, classes, n_per_class=None, transform=None):\n",
        "        self.bin_dir      = bin_dir\n",
        "        self.classes      = list(classes)\n",
        "        self.n_per_class  = n_per_class\n",
        "        self.transform    = transform\n",
        "        self.class_to_idx = {c: i for i, c in enumerate(self.classes)}\n",
        "        self.index        = []  # list of (class, offset)\n",
        "\n",
        "        # Build index by scanning each file sequentially\n",
        "        for cls in self.classes:\n",
        "            path = os.path.join(self.bin_dir, f\"{cls}.bin\")\n",
        "            with open(path, 'rb') as fh:\n",
        "                count = 0\n",
        "                while True:\n",
        "                    if self.n_per_class and count >= self.n_per_class:\n",
        "                        break\n",
        "                    offset = fh.tell()\n",
        "                    try:\n",
        "                        _ = unpack_drawing(fh)\n",
        "                    except Exception:\n",
        "                        break\n",
        "                    self.index.append((cls, offset))\n",
        "                    count += 1\n",
        "\n",
        "    def __len__(self):\n",
        "        return len(self.index)\n",
        "\n",
        "    def __getitem__(self, idx):\n",
        "        cls, offset = self.index[idx]\n",
        "        path = os.path.join(self.bin_dir, f\"{cls}.bin\")\n",
        "        with open(path, 'rb') as fh:\n",
        "            fh.seek(offset)\n",
        "            rec = unpack_drawing(fh)\n",
        "\n",
        "        # Render to numpy array\n",
        "        arr = strokes_to_image(rec['strokes'], size=256, line_width=1)\n",
        "        # Convert to 3-channel tensor\n",
        "        arr = arr[np.newaxis, :, :]\n",
        "        arr = np.repeat(arr, 3, axis=0)\n",
        "        img = torch.from_numpy(arr).float().div(255.0)\n",
        "\n",
        "        if self.transform:\n",
        "            img = self.transform(img)\n",
        "\n",
        "        label = self.class_to_idx[cls]\n",
        "        return img, label\n",
        "\n",
        "    def num_classes(self):\n",
        "        return len(self.classes)"
      ],
      "metadata": {
        "id": "HG7Q2_p-5Xyp"
      },
      "execution_count": 47,
      "outputs": []
    },
    {
      "cell_type": "code",
      "source": [
        "class QuickDrawShuffledStream(IterableDataset):\n",
        "    def __init__(self, bin_dir, classes, n_per_class=None, transform=None):\n",
        "        \"\"\"\n",
        "        Streams sketches by randomly choosing among class streams.\n",
        "        \"\"\"\n",
        "        self.bin_dir     = bin_dir\n",
        "        self.classes     = list(classes)\n",
        "        self.n_per_class = n_per_class\n",
        "        self.transform   = transform\n",
        "        self.class_to_idx= {c:i for i,c in enumerate(self.classes)}\n",
        "\n",
        "    def __iter__(self):\n",
        "        # Identify the worker that is accessing the DataSet\n",
        "        worker_info = get_worker_info()\n",
        "        if worker_info is None:\n",
        "          worker_id = 0\n",
        "          num_workers = 1\n",
        "        else:\n",
        "          worker_id = worker_info.id\n",
        "          num_workers = worker_info.num_workers\n",
        "\n",
        "        # Split the class list between the workers\n",
        "        my_classes = [c for i, c in enumerate(self.classes) if i % num_workers == worker_id]\n",
        "\n",
        "        # Open a file handle & counter for each class\n",
        "        handles = {}\n",
        "        counts  = {}\n",
        "        for c in my_classes:\n",
        "            path = os.path.join(self.bin_dir, f\"{c}.bin\")\n",
        "            handles[c] = open(path, 'rb')\n",
        "            counts[c]  = 0\n",
        "\n",
        "        alive = set(my_classes)\n",
        "        try:\n",
        "            while alive:\n",
        "                # Pick a random class that still has data\n",
        "                cls = random.choice(list(alive))\n",
        "                fh  = handles[cls]\n",
        "\n",
        "                # Stop if we've hit the per‑class limit\n",
        "                if self.n_per_class and counts[cls] >= self.n_per_class:\n",
        "                    alive.remove(cls)\n",
        "                    continue\n",
        "\n",
        "                # Try to unpack one drawing\n",
        "                try:\n",
        "                    rec = unpack_drawing(fh)\n",
        "                except struct.error:\n",
        "                    alive.remove(cls)\n",
        "                    continue\n",
        "\n",
        "                # Render & tensorize\n",
        "                arr = strokes_to_image(rec['strokes'], size=256, line_width=1)\n",
        "                img = torch.from_numpy(arr).unsqueeze(0).float().div(255.0)\n",
        "                img = img.repeat(3, 1, 1) # Repeat the single channel 3 times\n",
        "                if self.transform:\n",
        "                    img = self.transform(img)\n",
        "\n",
        "                label = self.class_to_idx[cls]\n",
        "                counts[cls] += 1\n",
        "                yield img, label\n",
        "        finally:\n",
        "            for fh in handles.values():\n",
        "                fh.close()\n",
        "\n",
        "    def __len__(self):\n",
        "        return self.n_per_class * len(self.classes)\n",
        "\n",
        "    def num_classes(self):\n",
        "        return len(self.classes)\n",
        "\n",
        "class SliceDataset(IterableDataset):\n",
        "    def __init__(self, source_ds, start, end):\n",
        "        \"\"\"\n",
        "        source_ds: the original IterableDataset\n",
        "        start:     first index to include (inclusive)\n",
        "        end:       first index to *exclude* (exclusive)\n",
        "        \"\"\"\n",
        "        self.source = source_ds\n",
        "        self.start  = start\n",
        "        self.end    = end\n",
        "\n",
        "    def __iter__(self):\n",
        "        # islice will skip up to start, then yield up to end\n",
        "        return itertools.islice(self.source.__iter__(), self.start, self.end)\n",
        "\n",
        "    def __len__(self):\n",
        "        return self.end - self.start"
      ],
      "metadata": {
        "id": "TG1AGKz-upqo"
      },
      "execution_count": 19,
      "outputs": []
    },
    {
      "cell_type": "code",
      "source": [
        "classes = []\n",
        "for f in os.listdir(\"datasets/QuickDraw/binary60/\"):\n",
        "    x = re.search(r\"(.+)\\.bin\", f)\n",
        "    name = str(x.group(1))\n",
        "    classes.append(name)\n",
        "print(classes)"
      ],
      "metadata": {
        "colab": {
          "base_uri": "https://localhost:8080/"
        },
        "id": "04XMF_CI2e8F",
        "outputId": "9b854be9-703d-4603-8c31-3980d94f6dea"
      },
      "execution_count": 48,
      "outputs": [
        {
          "output_type": "stream",
          "name": "stdout",
          "text": [
            "['airplane', 'alarm clock', 'ant', 'anvil', 'axe', 'banana', 'bat', 'binoculars', 'bowtie', 'broom', 'bucket', 'cactus', 'camel', 'candle', 'castle', 'cat', 'cello', 'chair', 'compass', 'cookie', 'cow', 'dog', 'donut', 'dragon', 'elephant', 'eyeglasses', 'face', 'fan', 'fire hydrant', 'giraffe', 'headphones', 'helicopter', 'horse', 'hourglass', 'ice cream', 'key', 'knife', 'laptop', 'microphone', 'moon', 'motorbike', 'onion', 'paper clip', 'pear', 'piano', 'pillow', 'pizza', 'pond', 'pool', 'potato', 'scissors', 'submarine', 'swan', 't-shirt', 'teddy-bear', 'tornado', 'train', 'umbrella', 'violin', 'windmill']\n"
          ]
        }
      ]
    },
    {
      "cell_type": "code",
      "source": [
        "weights = ResNet50_Weights.DEFAULT\n",
        "model = resnet50(weights=weights)\n",
        "preprocess = weights.transforms()"
      ],
      "metadata": {
        "id": "0yV-gOox-Lzq"
      },
      "execution_count": 49,
      "outputs": []
    },
    {
      "cell_type": "code",
      "source": [
        "dataset = QuickDrawMapDataset(\n",
        "    bin_dir=\"datasets/QuickDraw/binary60/\",\n",
        "    classes=classes,\n",
        "    n_per_class=1500,\n",
        "    transform=preprocess\n",
        ")\n",
        "print(len(dataset))"
      ],
      "metadata": {
        "collapsed": true,
        "colab": {
          "base_uri": "https://localhost:8080/"
        },
        "id": "3nby1UlPtXKM",
        "outputId": "603d4e75-9d47-4d67-c58c-0a13d912791c"
      },
      "execution_count": 55,
      "outputs": [
        {
          "output_type": "stream",
          "name": "stdout",
          "text": [
            "90000\n"
          ]
        }
      ]
    },
    {
      "cell_type": "code",
      "source": [
        "n = len(dataset)\n",
        "n_train = int(0.8 * n)\n",
        "n_val   = int(0.1 * n)\n",
        "n_test  = n - n_train - n_val\n",
        "\n",
        "train_ds, val_ds, test_ds = random_split(dataset, [n_train, n_val, n_test], generator=torch.Generator().manual_seed(42))\n",
        "\n",
        "'''\n",
        "train_ds = QuickDrawShuffledStream(bin_dir=\"datasets/QuickDraw/binary60/\", classes=classes, n_per_class=1200, transform=preprocess)\n",
        "val_ds   = QuickDrawShuffledStream(bin_dir=\"datasets/QuickDraw/binary60/\", classes=classes, n_per_class=150, transform=preprocess)\n",
        "test_ds  = QuickDrawShuffledStream(bin_dir=\"datasets/QuickDraw/binary60/\", classes=classes, n_per_class=150, transform=preprocess)\n",
        "'''\n",
        "print(len(train_ds))\n",
        "print(len(val_ds))\n",
        "print(len(test_ds))\n",
        "\n",
        "train_loader = DataLoader(train_ds, batch_size=64, shuffle=True, num_workers=4, pin_memory=True)\n",
        "val_loader   = DataLoader(val_ds,   batch_size=64, shuffle=False, num_workers=4, pin_memory=True)\n",
        "test_loader  = DataLoader(test_ds,  batch_size=64, shuffle=False, num_workers=4, pin_memory=True)"
      ],
      "metadata": {
        "colab": {
          "base_uri": "https://localhost:8080/"
        },
        "id": "14TApJ17untZ",
        "outputId": "4c1fd0c6-100a-433f-94c0-dde97daf2f97"
      },
      "execution_count": 56,
      "outputs": [
        {
          "output_type": "stream",
          "name": "stdout",
          "text": [
            "72000\n",
            "9000\n",
            "9000\n"
          ]
        }
      ]
    },
    {
      "cell_type": "code",
      "source": [
        "in_feats = model.fc.in_features\n",
        "model.fc = torch.nn.Linear(in_feats, dataset.num_classes())\n",
        "model = model.to(device)"
      ],
      "metadata": {
        "id": "NCq6Ge9V6rPc"
      },
      "execution_count": 53,
      "outputs": []
    },
    {
      "cell_type": "code",
      "source": [
        "# Sample the dataset\n",
        "imgs, labels = next(iter(train_loader))\n",
        "print(imgs.shape)\n",
        "print(labels.shape)\n",
        "\n",
        "plt.figure(figsize=(5,5))\n",
        "plt.title(classes[int(labels[0])])\n",
        "plt.imshow(imgs[0][0], cmap=\"gray\")\n",
        "plt.show()\n",
        "plt.axis('off')\n",
        "plt.grid(visible=False)\n",
        "plt.show()"
      ],
      "metadata": {
        "colab": {
          "base_uri": "https://localhost:8080/",
          "height": 892
        },
        "id": "92oO-yHX6_qO",
        "outputId": "cd28e231-d684-4077-b400-ca0299b4725f"
      },
      "execution_count": 54,
      "outputs": [
        {
          "output_type": "stream",
          "name": "stdout",
          "text": [
            "torch.Size([64, 3, 224, 224])\n",
            "torch.Size([64])\n"
          ]
        },
        {
          "output_type": "display_data",
          "data": {
            "text/plain": [
              "<Figure size 500x500 with 1 Axes>"
            ],
            "image/png": "[encoded data removed]"
          },
          "metadata": {}
        },
        {
          "output_type": "display_data",
          "data": {
            "text/plain": [
              "<Figure size 640x480 with 1 Axes>"
            ],
            "image/png": "[encoded data removed]"
          },
          "metadata": {}
        }
      ]
    },
    {
      "cell_type": "code",
      "source": [
        "num_classes = len(classes)\n",
        "in_feats    = model.fc.in_features\n",
        "model.fc    = nn.Linear(in_feats, num_classes).to(device)\n",
        "\n",
        "for name, param in model.named_parameters():\n",
        "    if name.startswith('fc.'):\n",
        "        param.requires_grad = True\n",
        "    else:\n",
        "        param.requires_grad = False\n"
      ],
      "metadata": {
        "id": "ecQN86dgElCV"
      },
      "execution_count": 57,
      "outputs": []
    },
    {
      "cell_type": "code",
      "source": [
        "# Reset FC layer parameters\n",
        "model.fc.reset_parameters()"
      ],
      "metadata": {
        "id": "BWIhNxgsdi-7"
      },
      "execution_count": 58,
      "outputs": []
    },
    {
      "cell_type": "code",
      "source": [
        "optimizer = torch.optim.AdamW(model.fc.parameters(), lr=1e-4, weight_decay=5e-4)\n",
        "criterion = nn.CrossEntropyLoss()"
      ],
      "metadata": {
        "id": "WUt_3lA8d0Sk"
      },
      "execution_count": 60,
      "outputs": []
    },
    {
      "cell_type": "code",
      "source": [
        "# Check if model is running on GPU\n",
        "print(\"Using device:\", device)\n",
        "print(\"Model on:\", next(model.parameters()).device)"
      ],
      "metadata": {
        "colab": {
          "base_uri": "https://localhost:8080/"
        },
        "id": "35X37J35gU4x",
        "outputId": "897aacd6-966a-4d3b-cb35-bcd319288094"
      },
      "execution_count": 61,
      "outputs": [
        {
          "output_type": "stream",
          "name": "stdout",
          "text": [
            "Using device: cuda\n",
            "Model on: cuda:0\n"
          ]
        }
      ]
    },
    {
      "cell_type": "code",
      "source": [
        "# Training loop\n",
        "%%time\n",
        "\n",
        "epochs = 5\n",
        "writer = SummaryWriter('logs/QuickDraw')\n",
        "imgs = imgs.to(device)\n",
        "writer.add_graph(model, imgs)\n",
        "for epoch in range(epochs):\n",
        "\n",
        "    # Train\n",
        "    model.train()\n",
        "    train_loss, correct = 0., 0.\n",
        "    # Loop over each batch from the training set\n",
        "    for batch_idx, (data, target) in enumerate(train_loader):\n",
        "        # Copy data to GPU if needed\n",
        "        data = data.to(device)\n",
        "        target = target.to(device)\n",
        "\n",
        "        # Zero gradient buffers\n",
        "        optimizer.zero_grad()\n",
        "\n",
        "        # Pass data through the network\n",
        "        preds = model(data)\n",
        "        #preds = preds.squeeze(dim=1)\n",
        "\n",
        "        # Calculate loss\n",
        "        loss = criterion(preds, target)\n",
        "\n",
        "        # Backpropagate\n",
        "        loss.backward()\n",
        "\n",
        "        # Update weights\n",
        "        optimizer.step()\n",
        "\n",
        "\n",
        "        correct += (preds.argmax(1) == target).sum().item()\n",
        "        train_loss+=loss.data.item()*data.size(0)\n",
        "\n",
        "        if batch_idx % 200 == 0:\n",
        "            print('Train Epoch: {} [{}/{} ({:.0f}%)]\\tLoss: {:.6f}'.format(\n",
        "                epoch, batch_idx * len(data), len(train_loader.dataset),\n",
        "                100. * batch_idx / len(train_loader), loss.data.item()))\n",
        "\n",
        "    train_acc = 100*correct/len(train_loader.dataset)\n",
        "    train_loss/=len(train_loader.dataset)\n",
        "\n",
        "    # Validate\n",
        "    model.eval()\n",
        "    val_loss, correct = 0, 0\n",
        "\n",
        "    with torch.no_grad():\n",
        "      for data, target in val_loader:\n",
        "        data = data.to(device)\n",
        "        target = target.to(device)\n",
        "\n",
        "        preds = model(data)\n",
        "\n",
        "        val_loss += criterion(preds, target).data.item()*data.size(0)\n",
        "        correct += (preds.argmax(1) == target).sum().item()\n",
        "\n",
        "      val_acc = 100*correct/len(val_loader.dataset)\n",
        "      val_loss/=len(val_loader.dataset)\n",
        "\n",
        "    print('\\nValidation set: Average loss: {:.4f}, Accuracy: {}/{} ({:.0f}%)\\n'.format(\n",
        "        val_loss, correct, len(val_loader.dataset), val_acc))\n",
        "\n",
        "    writer.add_scalars('Loss', {'Training':train_loss, 'Validation':val_loss}, global_step=epoch)\n",
        "    writer.add_scalars('Accuracy', {'Training':train_acc, 'Validation':val_acc}, global_step=epoch)\n",
        "writer.close()\n"
      ],
      "metadata": {
        "colab": {
          "base_uri": "https://localhost:8080/"
        },
        "id": "gM4JsQnqeds3",
        "outputId": "41213ebd-a6c7-4585-fddb-f76d6ca138e3"
      },
      "execution_count": 62,
      "outputs": [
        {
          "output_type": "stream",
          "name": "stdout",
          "text": [
            "Train Epoch: 0 [0/72000 (0%)]\tLoss: 4.111725\n",
            "Train Epoch: 0 [12800/72000 (18%)]\tLoss: 3.828827\n",
            "Train Epoch: 0 [25600/72000 (36%)]\tLoss: 3.460661\n",
            "Train Epoch: 0 [38400/72000 (53%)]\tLoss: 3.261494\n",
            "Train Epoch: 0 [51200/72000 (71%)]\tLoss: 3.096472\n",
            "Train Epoch: 0 [64000/72000 (89%)]\tLoss: 2.715979\n",
            "\n",
            "Validation set: Average loss: 2.8502, Accuracy: 4664/9000 (52%)\n",
            "\n",
            "Train Epoch: 1 [0/72000 (0%)]\tLoss: 2.781746\n",
            "Train Epoch: 1 [12800/72000 (18%)]\tLoss: 2.745910\n",
            "Train Epoch: 1 [25600/72000 (36%)]\tLoss: 2.532053\n",
            "Train Epoch: 1 [38400/72000 (53%)]\tLoss: 2.367638\n",
            "Train Epoch: 1 [51200/72000 (71%)]\tLoss: 2.562667\n",
            "Train Epoch: 1 [64000/72000 (89%)]\tLoss: 2.477664\n",
            "\n",
            "Validation set: Average loss: 2.3355, Accuracy: 5062/9000 (56%)\n",
            "\n",
            "Train Epoch: 2 [0/72000 (0%)]\tLoss: 2.220923\n",
            "Train Epoch: 2 [12800/72000 (18%)]\tLoss: 2.271547\n",
            "Train Epoch: 2 [25600/72000 (36%)]\tLoss: 2.140744\n",
            "Train Epoch: 2 [38400/72000 (53%)]\tLoss: 1.927066\n",
            "Train Epoch: 2 [51200/72000 (71%)]\tLoss: 2.095052\n",
            "Train Epoch: 2 [64000/72000 (89%)]\tLoss: 2.155915\n",
            "\n",
            "Validation set: Average loss: 2.0338, Accuracy: 5309/9000 (59%)\n",
            "\n",
            "Train Epoch: 3 [0/72000 (0%)]\tLoss: 1.928844\n",
            "Train Epoch: 3 [12800/72000 (18%)]\tLoss: 1.836816\n",
            "Train Epoch: 3 [25600/72000 (36%)]\tLoss: 2.001623\n",
            "Train Epoch: 3 [38400/72000 (53%)]\tLoss: 1.972233\n",
            "Train Epoch: 3 [51200/72000 (71%)]\tLoss: 1.744715\n",
            "Train Epoch: 3 [64000/72000 (89%)]\tLoss: 1.947543\n",
            "\n",
            "Validation set: Average loss: 1.8015, Accuracy: 5415/9000 (60%)\n",
            "\n",
            "Train Epoch: 4 [0/72000 (0%)]\tLoss: 2.083311\n",
            "Train Epoch: 4 [12800/72000 (18%)]\tLoss: 1.821591\n",
            "Train Epoch: 4 [25600/72000 (36%)]\tLoss: 1.801880\n",
            "Train Epoch: 4 [38400/72000 (53%)]\tLoss: 1.579178\n",
            "Train Epoch: 4 [51200/72000 (71%)]\tLoss: 1.527829\n",
            "Train Epoch: 4 [64000/72000 (89%)]\tLoss: 1.893408\n",
            "\n",
            "Validation set: Average loss: 1.7007, Accuracy: 5636/9000 (63%)\n",
            "\n",
            "CPU times: user 19min 18s, sys: 2min 54s, total: 22min 13s\n",
            "Wall time: 11min 7s\n"
          ]
        }
      ]
    }
  ]
}