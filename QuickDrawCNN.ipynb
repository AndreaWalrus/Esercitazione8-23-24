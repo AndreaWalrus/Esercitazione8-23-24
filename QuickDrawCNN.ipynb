{
 "cells": [
  {
   "cell_type": "markdown",
   "metadata": {
    "colab_type": "text",
    "id": "view-in-github"
   },
   "source": [
    "<a href=\"https://colab.research.google.com/github/AndreaWalrus/Esercitazione8-23-24/blob/main/QuickDrawCNN.ipynb\" target=\"_parent\"><img src=\"https://colab.research.google.com/assets/colab-badge.svg\" alt=\"Open In Colab\"/></a>"
   ]
  },
  {
   "cell_type": "markdown",
   "metadata": {
    "id": "Gz-HPror3pbG"
   },
   "source": [
    "# Esercizio Quick Draw"
   ]
  },
  {
   "cell_type": "code",
   "execution_count": 2,
   "metadata": {
    "colab": {
     "base_uri": "https://localhost:8080/"
    },
    "id": "ICEkvEvp2HJD",
    "outputId": "fc9cb892-0eae-4534-fb69-dfb6faaf0e60"
   },
   "outputs": [
    {
     "name": "stdout",
     "output_type": "stream",
     "text": [
      "Using PyTorch version: 2.6.0+cu124  Device: cuda\n"
     ]
    },
    {
     "data": {
      "text/plain": [
       "<torch._C.Generator at 0x799c581c01f0>"
      ]
     },
     "execution_count": 2,
     "metadata": {},
     "output_type": "execute_result"
    }
   ],
   "source": [
    "%matplotlib inline\n",
    "\n",
    "import torch\n",
    "import torch.nn as nn\n",
    "import torch.nn.functional as F\n",
    "from torch.utils.data import DataLoader, SubsetRandomSampler, ConcatDataset, Dataset, Subset, random_split, IterableDataset, get_worker_info\n",
    "from torchvision import datasets\n",
    "from torchvision.transforms import v2\n",
    "from torchvision.models import resnet50, ResNet50_Weights\n",
    "import tensorflow as tf\n",
    "\n",
    "import numpy as np\n",
    "import matplotlib.pyplot as plt\n",
    "from PIL import Image, ImageDraw\n",
    "import pandas as pd\n",
    "from tqdm.auto import trange\n",
    "import itertools\n",
    "\n",
    "# Import tensorboard logger from PyTorch\n",
    "from torch.utils.tensorboard import SummaryWriter\n",
    "from tensorboard.plugins.hparams import api as hp\n",
    "\n",
    "# This is when we use GPU instance to run colab.\n",
    "# How to change Runtime in colab??\n",
    "# Go to Runtime-> Change Runtime type -> Hardware Accelerator -> GPU\n",
    "\n",
    "if torch.cuda.is_available():\n",
    "    device = torch.device('cuda')\n",
    "else:\n",
    "    device = torch.device('cpu')\n",
    "\n",
    "print('Using PyTorch version:', torch.__version__, ' Device:', device)\n",
    "torch.manual_seed(42)"
   ]
  },
  {
   "cell_type": "code",
   "execution_count": 3,
   "metadata": {
    "id": "X7u-llVvUXDy"
   },
   "outputs": [],
   "source": [
    "import struct\n",
    "import os, re, random\n",
    "\n",
    "def unpack_drawing(fh):\n",
    "    # Read one drawing record from the binary file handle\n",
    "    key_id,       = struct.unpack('Q',  fh.read(8))\n",
    "    country_code, = struct.unpack('2s', fh.read(2))\n",
    "    recognized,   = struct.unpack('b',  fh.read(1))\n",
    "    timestamp,    = struct.unpack('I',  fh.read(4))\n",
    "    n_strokes,    = struct.unpack('H',  fh.read(2))\n",
    "\n",
    "    strokes = []\n",
    "    for _ in range(n_strokes):\n",
    "        n_pts, = struct.unpack('H', fh.read(2))\n",
    "        fmt    = f'{n_pts}B'\n",
    "        x_pts  = struct.unpack(fmt, fh.read(n_pts))\n",
    "        y_pts  = struct.unpack(fmt, fh.read(n_pts))\n",
    "        strokes.append((x_pts, y_pts))\n",
    "\n",
    "    return {'strokes': strokes}\n",
    "\n",
    "def strokes_to_image(raw_strokes, size=256, line_width=1):\n",
    "    \"\"\"\n",
    "    raw_strokes: list of strokes, each ([x0,x1,...], [y0,y1,...])\n",
    "                 where each x_i, y_i is already in [0..255] integer\n",
    "    size:       canvas size (should be 256)\n",
    "    line_width: thickness of the drawn line (in pixels)\n",
    "    \"\"\"\n",
    "    # White canvas\n",
    "    img = Image.new(\"L\", (size, size), color=255)\n",
    "    draw = ImageDraw.Draw(img)\n",
    "\n",
    "    # Draw each stroke without any rescaling\n",
    "    for x_pts, y_pts in raw_strokes:\n",
    "        # Make sure points are (x,y) tuples of ints\n",
    "        points = list(zip(map(int, x_pts), map(int, y_pts)))\n",
    "        if len(points) >= 2:\n",
    "            draw.line(points, fill=0, width=line_width)\n",
    "\n",
    "    # Return as NumPy array\n",
    "    return np.array(img, dtype=np.uint8)\n",
    "\n",
    "def load_quickdraw_bin(filename, n_samples=None):\n",
    "    images = []\n",
    "    with open(filename, 'rb') as fh:\n",
    "        for i in range(n_samples):\n",
    "            try:\n",
    "                rec = unpack_drawing(fh)\n",
    "            except struct.error:\n",
    "                break\n",
    "            # Render strokes in 256×256 and add to list\n",
    "            img = strokes_to_image(rec['strokes'], size=256, line_width=1)\n",
    "            images.append(img)\n",
    "            if i%1000 == 0:\n",
    "              print('Progress: '+str(int(100*i/n_samples))+'%')\n",
    "\n",
    "    arr = np.stack(images, axis=0)\n",
    "    arr = arr[:, np.newaxis, :, :].astype(np.uint8)\n",
    "    return arr\n",
    "\n",
    "def parseQuickDraw(dir, n_samples):\n",
    "  imgs_array = None\n",
    "  labels_array = None\n",
    "  i=0\n",
    "  names = []\n",
    "  for f in os.listdir(dir):\n",
    "    x = re.search(r\"(.+)\\.bin\", f)\n",
    "    name = str(x.group(1))\n",
    "    names.append(name)\n",
    "    print('Loading: '+dir+name+'.bin')\n",
    "\n",
    "    # Load all images for each file in imgs and triplicate the channel layer\n",
    "    imgs = load_quickdraw_bin(dir+name+'.bin', n_samples=n_samples)\n",
    "    imgs = np.repeat(imgs, 3, axis=1)\n",
    "\n",
    "    # Initialize the label_array and fill it up to n_samples with the file name\n",
    "    labels = [name]\n",
    "    labels = np.reshape(labels, (1, 1))\n",
    "    labels = np.repeat(labels, n_samples, axis=0)\n",
    "\n",
    "\n",
    "    if i==0:\n",
    "      imgs_array = imgs\n",
    "      labels_array = labels\n",
    "    else:\n",
    "      imgs_array = np.concatenate((imgs_array, imgs), axis=0)\n",
    "      labels_array = np.concatenate((labels_array, labels), axis=0)\n",
    "\n",
    "    i+=1\n",
    "    print('Loaded: '+dir+name+'.bin\\n')\n",
    "\n",
    "    '''\n",
    "    # Save both arrays as .npz for easy of access\n",
    "    with open(dir+'../npy/'+name+'.npz', 'wb') as f:\n",
    "      np.savez(f, label=labels, img=imgs)\n",
    "      print('Saved: '+dir+'../npy/'+name+'.npz\\n')\n",
    "    '''\n",
    "  print(imgs_array.shape)\n",
    "  print(labels_array.shape)\n",
    "  print('Finished')\n",
    "  return imgs_array, labels_array, names"
   ]
  },
  {
   "cell_type": "code",
   "execution_count": 4,
   "metadata": {
    "id": "HG7Q2_p-5Xyp"
   },
   "outputs": [],
   "source": [
    "class QuickDrawMapDataset(Dataset):\n",
    "    \"\"\"\n",
    "    Map-style Dataset for QuickDraw .bin files.\n",
    "    Builds an index of byte offsets for each record to allow random access.\n",
    "\n",
    "    Args:\n",
    "        bin_dir (str): directory containing <class>.bin files\n",
    "        classes (List[str]): list of class basenames (without .bin)\n",
    "        n_per_class (int|None): max records to index per class (None for all)\n",
    "        transform (callable|None): torchvision transform to apply to 3-channel tensor\n",
    "    \"\"\"\n",
    "    def __init__(self, bin_dir, classes, n_per_class=None, transform=None):\n",
    "        self.bin_dir      = bin_dir\n",
    "        self.classes      = list(classes)\n",
    "        self.n_per_class  = n_per_class\n",
    "        self.transform    = transform\n",
    "        self.class_to_idx = {c: i for i, c in enumerate(self.classes)}\n",
    "        self.index        = []  # list of (class, offset)\n",
    "\n",
    "        # Build index by scanning each file sequentially\n",
    "        for cls in self.classes:\n",
    "            path = os.path.join(self.bin_dir, f\"{cls}.bin\")\n",
    "            with open(path, 'rb') as fh:\n",
    "                count = 0\n",
    "                while True:\n",
    "                    if self.n_per_class and count >= self.n_per_class:\n",
    "                        break\n",
    "                    offset = fh.tell()\n",
    "                    try:\n",
    "                        _ = unpack_drawing(fh)\n",
    "                    except Exception:\n",
    "                        break\n",
    "                    self.index.append((cls, offset))\n",
    "                    count += 1\n",
    "\n",
    "    def __len__(self):\n",
    "        return len(self.index)\n",
    "\n",
    "    def __getitem__(self, idx):\n",
    "        cls, offset = self.index[idx]\n",
    "        path = os.path.join(self.bin_dir, f\"{cls}.bin\")\n",
    "        with open(path, 'rb') as fh:\n",
    "            fh.seek(offset)\n",
    "            rec = unpack_drawing(fh)\n",
    "\n",
    "        # Render to numpy array\n",
    "        arr = strokes_to_image(rec['strokes'], size=256, line_width=1)\n",
    "        # Convert to 3-channel tensor\n",
    "        arr = arr[np.newaxis, :, :]\n",
    "        arr = np.repeat(arr, 3, axis=0)\n",
    "        img = torch.from_numpy(arr).float().div(255.0)\n",
    "\n",
    "        if self.transform:\n",
    "            img = self.transform(img)\n",
    "\n",
    "        label = self.class_to_idx[cls]\n",
    "        return img, label\n",
    "\n",
    "    def num_classes(self):\n",
    "        return len(self.classes)"
   ]
  },
  {
   "cell_type": "code",
   "execution_count": 19,
   "metadata": {
    "id": "TG1AGKz-upqo"
   },
   "outputs": [],
   "source": [
    "class QuickDrawShuffledStream(IterableDataset):\n",
    "    def __init__(self, bin_dir, classes, n_per_class=None, transform=None):\n",
    "        \"\"\"\n",
    "        Streams sketches by randomly choosing among class streams.\n",
    "        \"\"\"\n",
    "        self.bin_dir     = bin_dir\n",
    "        self.classes     = list(classes)\n",
    "        self.n_per_class = n_per_class\n",
    "        self.transform   = transform\n",
    "        self.class_to_idx= {c:i for i,c in enumerate(self.classes)}\n",
    "\n",
    "    def __iter__(self):\n",
    "        # Identify the worker that is accessing the DataSet\n",
    "        worker_info = get_worker_info()\n",
    "        if worker_info is None:\n",
    "          worker_id = 0\n",
    "          num_workers = 1\n",
    "        else:\n",
    "          worker_id = worker_info.id\n",
    "          num_workers = worker_info.num_workers\n",
    "\n",
    "        # Split the class list between the workers\n",
    "        my_classes = [c for i, c in enumerate(self.classes) if i % num_workers == worker_id]\n",
    "\n",
    "        # Open a file handle & counter for each class\n",
    "        handles = {}\n",
    "        counts  = {}\n",
    "        for c in my_classes:\n",
    "            path = os.path.join(self.bin_dir, f\"{c}.bin\")\n",
    "            handles[c] = open(path, 'rb')\n",
    "            counts[c]  = 0\n",
    "\n",
    "        alive = set(my_classes)\n",
    "        try:\n",
    "            while alive:\n",
    "                # Pick a random class that still has data\n",
    "                cls = random.choice(list(alive))\n",
    "                fh  = handles[cls]\n",
    "\n",
    "                # Stop if we've hit the per‑class limit\n",
    "                if self.n_per_class and counts[cls] >= self.n_per_class:\n",
    "                    alive.remove(cls)\n",
    "                    continue\n",
    "\n",
    "                # Try to unpack one drawing\n",
    "                try:\n",
    "                    rec = unpack_drawing(fh)\n",
    "                except struct.error:\n",
    "                    alive.remove(cls)\n",
    "                    continue\n",
    "\n",
    "                # Render & tensorize\n",
    "                arr = strokes_to_image(rec['strokes'], size=256, line_width=1)\n",
    "                img = torch.from_numpy(arr).unsqueeze(0).float().div(255.0)\n",
    "                img = img.repeat(3, 1, 1) # Repeat the single channel 3 times\n",
    "                if self.transform:\n",
    "                    img = self.transform(img)\n",
    "\n",
    "                label = self.class_to_idx[cls]\n",
    "                counts[cls] += 1\n",
    "                yield img, label\n",
    "        finally:\n",
    "            for fh in handles.values():\n",
    "                fh.close()\n",
    "\n",
    "    def __len__(self):\n",
    "        return self.n_per_class * len(self.classes)\n",
    "\n",
    "    def num_classes(self):\n",
    "        return len(self.classes)\n",
    "\n",
    "class SliceDataset(IterableDataset):\n",
    "    def __init__(self, source_ds, start, end):\n",
    "        \"\"\"\n",
    "        source_ds: the original IterableDataset\n",
    "        start:     first index to include (inclusive)\n",
    "        end:       first index to *exclude* (exclusive)\n",
    "        \"\"\"\n",
    "        self.source = source_ds\n",
    "        self.start  = start\n",
    "        self.end    = end\n",
    "\n",
    "    def __iter__(self):\n",
    "        # islice will skip up to start, then yield up to end\n",
    "        return itertools.islice(self.source.__iter__(), self.start, self.end)\n",
    "\n",
    "    def __len__(self):\n",
    "        return self.end - self.start"
   ]
  },
  {
   "cell_type": "code",
   "execution_count": 37,
   "metadata": {
    "colab": {
     "base_uri": "https://localhost:8080/"
    },
    "id": "04XMF_CI2e8F",
    "outputId": "45272388-c88b-4751-d0d1-a04248f99810"
   },
   "outputs": [
    {
     "name": "stdout",
     "output_type": "stream",
     "text": [
      "['airplane', 'alarm clock', 'anvil', 'axe', 'banana', 'bat', 'binoculars', 'broom', 'bucket', 'cactus', 'camel', 'candle', 'cat', 'chair', 'compass', 'cow', 'dog', 'donut', 'dragon', 'elephant', 'face', 'fan', 'fire hydrant', 'giraffe', 'headphones', 'horse', 'hourglass', 'ice cream', 'key', 'knife', 'laptop', 'microphone', 'moon', 'motorbike', 'onion', 'paper clip', 'pillow', 'pizza', 'pond', 'pool', 'potato', 'scissors', 'submarine', 't-shirt', 'teddy-bear', 'tornado', 'train', 'umbrella', 'violin', 'windmill']\n"
     ]
    }
   ],
   "source": [
    "classes = []\n",
    "for f in os.listdir(\"datasets/QuickDraw/binary60/\"):\n",
    "    x = re.search(r\"(.+)\\.bin\", f)\n",
    "    name = str(x.group(1))\n",
    "    classes.append(name)\n",
    "print(classes)"
   ]
  },
  {
   "cell_type": "code",
   "execution_count": 38,
   "metadata": {
    "id": "0yV-gOox-Lzq"
   },
   "outputs": [],
   "source": [
    "weights = ResNet50_Weights.DEFAULT\n",
    "model = resnet50(weights=weights)\n",
    "preprocess = weights.transforms()"
   ]
  },
  {
   "cell_type": "code",
   "execution_count": 55,
   "metadata": {
    "colab": {
     "base_uri": "https://localhost:8080/"
    },
    "collapsed": true,
    "id": "3nby1UlPtXKM",
    "jupyter": {
     "outputs_hidden": true
    },
    "outputId": "9d87cb29-8a64-4e70-be65-2992338d96d2"
   },
   "outputs": [
    {
     "name": "stdout",
     "output_type": "stream",
     "text": [
      "60000\n"
     ]
    }
   ],
   "source": [
    "dataset = QuickDrawMapDataset(\n",
    "    bin_dir=\"datasets/QuickDraw/binary60/\",\n",
    "    classes=classes,\n",
    "    n_per_class=1200,\n",
    "    transform=preprocess\n",
    ")\n",
    "print(len(dataset))"
   ]
  },
  {
   "cell_type": "code",
   "execution_count": 56,
   "metadata": {
    "colab": {
     "base_uri": "https://localhost:8080/"
    },
    "id": "14TApJ17untZ",
    "outputId": "ea8162b2-2dd4-422e-f578-c2f3f630d032"
   },
   "outputs": [
    {
     "name": "stdout",
     "output_type": "stream",
     "text": [
      "48000\n",
      "6000\n",
      "6000\n"
     ]
    }
   ],
   "source": [
    "n = len(dataset)\n",
    "n_train = int(0.8 * n)\n",
    "n_val   = int(0.1 * n)\n",
    "n_test  = n - n_train - n_val\n",
    "\n",
    "train_ds, val_ds, test_ds = random_split(dataset, [n_train, n_val, n_test], generator=torch.Generator().manual_seed(42))\n",
    "\n",
    "'''\n",
    "train_ds = QuickDrawShuffledStream(bin_dir=\"datasets/QuickDraw/binary60/\", classes=classes, n_per_class=1200, transform=preprocess)\n",
    "val_ds   = QuickDrawShuffledStream(bin_dir=\"datasets/QuickDraw/binary60/\", classes=classes, n_per_class=150, transform=preprocess)\n",
    "test_ds  = QuickDrawShuffledStream(bin_dir=\"datasets/QuickDraw/binary60/\", classes=classes, n_per_class=150, transform=preprocess)\n",
    "'''\n",
    "print(len(train_ds))\n",
    "print(len(val_ds))\n",
    "print(len(test_ds))\n",
    "\n",
    "train_loader = DataLoader(train_ds, batch_size=64, shuffle=True, num_workers=4, pin_memory=True)\n",
    "val_loader   = DataLoader(val_ds,   batch_size=64, shuffle=True, num_workers=4, pin_memory=True)\n",
    "test_loader  = DataLoader(test_ds,  batch_size=64, shuffle=False, num_workers=4, pin_memory=True)"
   ]
  },
  {
   "cell_type": "code",
   "execution_count": 57,
   "metadata": {
    "id": "NCq6Ge9V6rPc"
   },
   "outputs": [],
   "source": [
    "in_feats = model.fc.in_features\n",
    "model.fc = torch.nn.Linear(in_feats, dataset.num_classes())\n",
    "model = model.to(device)"
   ]
  },
  {
   "cell_type": "code",
   "execution_count": 45,
   "metadata": {
    "colab": {
     "base_uri": "https://localhost:8080/",
     "height": 892
    },
    "id": "92oO-yHX6_qO",
    "outputId": "f541f4f4-6272-47c1-a2fb-1afe7bbbf292"
   },
   "outputs": [
    {
     "name": "stdout",
     "output_type": "stream",
     "text": [
      "torch.Size([64, 3, 224, 224])\n",
      "torch.Size([64])\n"
     ]
    },
    {
     "data": {
      "image/png": "[encoded data removed]",
      "text/plain": [
       "<Figure size 500x500 with 1 Axes>"
      ]
     },
     "metadata": {},
     "output_type": "display_data"
    },
    {
     "data": {
      "image/png": "[encoded data removed]",
      "text/plain": [
       "<Figure size 640x480 with 1 Axes>"
      ]
     },
     "metadata": {},
     "output_type": "display_data"
    }
   ],
   "source": [
    "# Sample the dataset\n",
    "imgs, labels = next(iter(train_loader))\n",
    "print(imgs.shape)\n",
    "print(labels.shape)\n",
    "\n",
    "plt.figure(figsize=(5,5))\n",
    "plt.title(classes[int(labels[0])])\n",
    "plt.imshow(imgs[0][0], cmap=\"gray\")\n",
    "plt.show()\n",
    "plt.axis('off')\n",
    "plt.grid(visible=False)\n",
    "plt.show()"
   ]
  },
  {
   "cell_type": "code",
   "execution_count": 58,
   "metadata": {
    "id": "ecQN86dgElCV"
   },
   "outputs": [],
   "source": [
    "num_classes = len(classes)\n",
    "in_feats    = model.fc.in_features\n",
    "model.fc    = nn.Linear(in_feats, num_classes).to(device)\n",
    "\n",
    "for name, param in model.named_parameters():\n",
    "    if name.startswith('fc.'):\n",
    "        param.requires_grad = True\n",
    "    else:\n",
    "        param.requires_grad = False\n"
   ]
  },
  {
   "cell_type": "code",
   "execution_count": 65,
   "metadata": {
    "id": "BWIhNxgsdi-7"
   },
   "outputs": [],
   "source": [
    "# Reset FC layer parameters\n",
    "model.fc.reset_parameters()"
   ]
  },
  {
   "cell_type": "code",
   "execution_count": 63,
   "metadata": {
    "id": "WUt_3lA8d0Sk"
   },
   "outputs": [],
   "source": [
    "optimizer = torch.optim.AdamW(model.fc.parameters(), lr=5e-5, weight_decay=10e-3)\n",
    "criterion = nn.CrossEntropyLoss()"
   ]
  },
  {
   "cell_type": "code",
   "execution_count": 64,
   "metadata": {
    "colab": {
     "base_uri": "https://localhost:8080/"
    },
    "id": "35X37J35gU4x",
    "outputId": "9acebdad-d0de-44cf-f73e-e9ba5ad610aa"
   },
   "outputs": [
    {
     "name": "stdout",
     "output_type": "stream",
     "text": [
      "Using device: cuda\n",
      "Model on: cuda:0\n"
     ]
    }
   ],
   "source": [
    "# Check if model is running on GPU\n",
    "print(\"Using device:\", device)\n",
    "print(\"Model on:\", next(model.parameters()).device)"
   ]
  },
  {
   "cell_type": "code",
   "execution_count": 66,
   "metadata": {
    "colab": {
     "base_uri": "https://localhost:8080/"
    },
    "id": "gM4JsQnqeds3",
    "outputId": "b5f8417a-deb1-49ac-8130-25ca03c8436e"
   },
   "outputs": [
    {
     "name": "stdout",
     "output_type": "stream",
     "text": [
      "Train Epoch: 1 [0/48000 (0%)]\tLoss: 3.897551\n",
      "Train Epoch: 1 [12800/48000 (27%)]\tLoss: 3.743116\n",
      "Train Epoch: 1 [25600/48000 (53%)]\tLoss: 3.561437\n",
      "Train Epoch: 1 [38400/48000 (80%)]\tLoss: 3.335281\n",
      "\n",
      "Validation set: Average loss: 3.3255, Accuracy: 2794/6000 (47%)\n",
      "\n",
      "Train Epoch: 2 [0/48000 (0%)]\tLoss: 3.234592\n",
      "Train Epoch: 2 [12800/48000 (27%)]\tLoss: 3.199215\n",
      "Train Epoch: 2 [25600/48000 (53%)]\tLoss: 3.093823\n",
      "Train Epoch: 2 [38400/48000 (80%)]\tLoss: 3.015846\n",
      "\n",
      "Validation set: Average loss: 2.9109, Accuracy: 3227/6000 (54%)\n",
      "\n",
      "Train Epoch: 3 [0/48000 (0%)]\tLoss: 2.976742\n",
      "Train Epoch: 3 [12800/48000 (27%)]\tLoss: 2.890063\n",
      "Train Epoch: 3 [25600/48000 (53%)]\tLoss: 2.777338\n",
      "Train Epoch: 3 [38400/48000 (80%)]\tLoss: 2.554238\n",
      "\n",
      "Validation set: Average loss: 2.6458, Accuracy: 3355/6000 (56%)\n",
      "\n",
      "Train Epoch: 4 [0/48000 (0%)]\tLoss: 2.459033\n",
      "Train Epoch: 4 [12800/48000 (27%)]\tLoss: 2.558879\n",
      "Train Epoch: 4 [25600/48000 (53%)]\tLoss: 2.426860\n",
      "Train Epoch: 4 [38400/48000 (80%)]\tLoss: 2.393425\n",
      "\n",
      "Validation set: Average loss: 2.4294, Accuracy: 3485/6000 (58%)\n",
      "\n",
      "Train Epoch: 5 [0/48000 (0%)]\tLoss: 2.360358\n",
      "Train Epoch: 5 [12800/48000 (27%)]\tLoss: 2.308608\n",
      "Train Epoch: 5 [25600/48000 (53%)]\tLoss: 2.358286\n",
      "Train Epoch: 5 [38400/48000 (80%)]\tLoss: 2.274997\n",
      "\n",
      "Validation set: Average loss: 2.2296, Accuracy: 3545/6000 (59%)\n",
      "\n",
      "Train Epoch: 6 [0/48000 (0%)]\tLoss: 2.073760\n",
      "Train Epoch: 6 [12800/48000 (27%)]\tLoss: 2.027803\n",
      "Train Epoch: 6 [25600/48000 (53%)]\tLoss: 1.809442\n",
      "Train Epoch: 6 [38400/48000 (80%)]\tLoss: 2.136714\n",
      "\n",
      "Validation set: Average loss: 2.0794, Accuracy: 3640/6000 (61%)\n",
      "\n",
      "Train Epoch: 7 [0/48000 (0%)]\tLoss: 1.881703\n",
      "Train Epoch: 7 [12800/48000 (27%)]\tLoss: 1.937459\n",
      "Train Epoch: 7 [25600/48000 (53%)]\tLoss: 2.185330\n",
      "Train Epoch: 7 [38400/48000 (80%)]\tLoss: 2.018156\n",
      "\n",
      "Validation set: Average loss: 1.9701, Accuracy: 3691/6000 (62%)\n",
      "\n",
      "Train Epoch: 8 [0/48000 (0%)]\tLoss: 2.001962\n",
      "Train Epoch: 8 [12800/48000 (27%)]\tLoss: 1.882620\n",
      "Train Epoch: 8 [25600/48000 (53%)]\tLoss: 1.680554\n",
      "Train Epoch: 8 [38400/48000 (80%)]\tLoss: 2.198514\n",
      "\n",
      "Validation set: Average loss: 1.9224, Accuracy: 3744/6000 (62%)\n",
      "\n",
      "Train Epoch: 9 [0/48000 (0%)]\tLoss: 1.725845\n",
      "Train Epoch: 9 [12800/48000 (27%)]\tLoss: 1.824340\n",
      "Train Epoch: 9 [25600/48000 (53%)]\tLoss: 1.851554\n",
      "Train Epoch: 9 [38400/48000 (80%)]\tLoss: 1.681614\n",
      "\n",
      "Validation set: Average loss: 1.7958, Accuracy: 3759/6000 (63%)\n",
      "\n",
      "Train Epoch: 10 [0/48000 (0%)]\tLoss: 1.725053\n",
      "Train Epoch: 10 [12800/48000 (27%)]\tLoss: 1.531877\n",
      "Train Epoch: 10 [25600/48000 (53%)]\tLoss: 1.967779\n",
      "Train Epoch: 10 [38400/48000 (80%)]\tLoss: 1.828029\n",
      "\n",
      "Validation set: Average loss: 1.6983, Accuracy: 3831/6000 (64%)\n",
      "\n",
      "Train Epoch: 11 [0/48000 (0%)]\tLoss: 1.722398\n",
      "Train Epoch: 11 [12800/48000 (27%)]\tLoss: 1.805625\n",
      "Train Epoch: 11 [25600/48000 (53%)]\tLoss: 1.879027\n",
      "Train Epoch: 11 [38400/48000 (80%)]\tLoss: 1.696333\n",
      "\n",
      "Validation set: Average loss: 1.7026, Accuracy: 3816/6000 (64%)\n",
      "\n",
      "Train Epoch: 12 [0/48000 (0%)]\tLoss: 1.961845\n",
      "Train Epoch: 12 [12800/48000 (27%)]\tLoss: 1.586246\n",
      "Train Epoch: 12 [25600/48000 (53%)]\tLoss: 1.639757\n",
      "Train Epoch: 12 [38400/48000 (80%)]\tLoss: 1.930631\n",
      "\n",
      "Validation set: Average loss: 1.6192, Accuracy: 3872/6000 (65%)\n",
      "\n",
      "Train Epoch: 13 [0/48000 (0%)]\tLoss: 1.299870\n",
      "Train Epoch: 13 [12800/48000 (27%)]\tLoss: 1.480372\n",
      "Train Epoch: 13 [25600/48000 (53%)]\tLoss: 1.581677\n",
      "Train Epoch: 13 [38400/48000 (80%)]\tLoss: 1.922086\n",
      "\n",
      "Validation set: Average loss: 1.5945, Accuracy: 3883/6000 (65%)\n",
      "\n",
      "Train Epoch: 14 [0/48000 (0%)]\tLoss: 1.644549\n",
      "Train Epoch: 14 [12800/48000 (27%)]\tLoss: 1.572232\n",
      "Train Epoch: 14 [25600/48000 (53%)]\tLoss: 1.545860\n",
      "Train Epoch: 14 [38400/48000 (80%)]\tLoss: 1.572871\n",
      "\n",
      "Validation set: Average loss: 1.5772, Accuracy: 3907/6000 (65%)\n",
      "\n",
      "Train Epoch: 15 [0/48000 (0%)]\tLoss: 1.719082\n",
      "Train Epoch: 15 [12800/48000 (27%)]\tLoss: 1.457945\n",
      "Train Epoch: 15 [25600/48000 (53%)]\tLoss: 1.891495\n",
      "Train Epoch: 15 [38400/48000 (80%)]\tLoss: 1.877368\n",
      "\n",
      "Validation set: Average loss: 1.5131, Accuracy: 3914/6000 (65%)\n",
      "\n",
      "CPU times: user 38min 27s, sys: 5min 43s, total: 44min 10s\n",
      "Wall time: 21min 2s\n"
     ]
    }
   ],
   "source": [
    "# Training loop\n",
    "%%time\n",
    "\n",
    "epochs = 15\n",
    "writer = SummaryWriter('logs/QuickDraw')\n",
    "imgs = imgs.to(device)\n",
    "writer.add_graph(model, imgs)\n",
    "for epoch in range(1, epochs+1):\n",
    "\n",
    "    # Train\n",
    "    model.train()\n",
    "    train_loss, correct = 0., 0.\n",
    "    # Loop over each batch from the training set\n",
    "    for batch_idx, (data, target) in enumerate(train_loader):\n",
    "        # Copy data to GPU if needed\n",
    "        data = data.to(device)\n",
    "        target = target.to(device)\n",
    "\n",
    "        # Zero gradient buffers\n",
    "        optimizer.zero_grad()\n",
    "\n",
    "        # Pass data through the network\n",
    "        preds = model(data)\n",
    "        #preds = preds.squeeze(dim=1)\n",
    "\n",
    "        # Calculate loss\n",
    "        loss = criterion(preds, target)\n",
    "\n",
    "        # Backpropagate\n",
    "        loss.backward()\n",
    "\n",
    "        # Update weights\n",
    "        optimizer.step()\n",
    "\n",
    "\n",
    "        correct += (preds.argmax(1) == target).sum().item()\n",
    "        train_loss+=loss.data.item()*data.size(0)\n",
    "\n",
    "        if batch_idx % 200 == 0:\n",
    "            print('Train Epoch: {} [{}/{} ({:.0f}%)]\\tLoss: {:.6f}'.format(\n",
    "                epoch, batch_idx * len(data), len(train_loader.dataset),\n",
    "                100. * batch_idx / len(train_loader), loss.data.item()))\n",
    "\n",
    "    train_acc = 100*correct/len(train_loader.dataset)\n",
    "    train_loss/=len(train_loader.dataset)\n",
    "\n",
    "    # Validate\n",
    "    model.eval()\n",
    "    val_loss, correct = 0, 0\n",
    "\n",
    "    with torch.no_grad():\n",
    "      for data, target in val_loader:\n",
    "        data = data.to(device)\n",
    "        target = target.to(device)\n",
    "\n",
    "        preds = model(data)\n",
    "\n",
    "        val_loss += criterion(preds, target).data.item()*data.size(0)\n",
    "        correct += (preds.argmax(1) == target).sum().item()\n",
    "\n",
    "      val_acc = 100*correct/len(val_loader.dataset)\n",
    "      val_loss/=len(val_loader.dataset)\n",
    "\n",
    "    print('\\nValidation set: Average loss: {:.4f}, Accuracy: {}/{} ({:.0f}%)\\n'.format(\n",
    "        val_loss, correct, len(val_loader.dataset), val_acc))\n",
    "\n",
    "    writer.add_scalars('Loss', {'Training':train_loss, 'Validation':val_loss}, global_step=epoch)\n",
    "    writer.add_scalars('Accuracy', {'Training':train_acc, 'Validation':val_acc}, global_step=epoch)\n",
    "writer.close()\n"
   ]
  },
  {
   "cell_type": "code",
   "execution_count": null,
   "metadata": {},
   "outputs": [],
   "source": [
    "def run(run_dir, hparams):\n",
    "  with tf.summary.create_file_writer(run_dir).as_default():\n",
    "        hp.hparams(hparam)\n",
    "        \n",
    "        model.fc.reset_parameters()\n",
    "        for p in model.parameters():\n",
    "            p.requires_grad = False\n",
    "        for p in model.fc.parameters():\n",
    "            p.requires_grad = True\n",
    "    \n",
    "        optimizer = optim.AdamW(model.fc.parameters(), lr=hparam[HP_LR], weight_decay=hparam[HP_WD])\n",
    "        criterion = nn.CrossEntropyLoss()\n",
    "    \n",
    "    \n",
    "        for epoch in range(2):\n",
    "            model.train()\n",
    "            for imgs, labels in train_loader:\n",
    "                imgs, labels = imgs.to(device), labels.to(device)\n",
    "                optimizer.zero_grad()\n",
    "                loss = criterion(model(imgs), labels)\n",
    "                loss.backward()\n",
    "                optimizer.step()\n",
    "    \n",
    "    \n",
    "        model.eval()\n",
    "        correct = 0\n",
    "        total   = 0\n",
    "        with torch.no_grad():\n",
    "            for imgs, labels in val_loader:\n",
    "                imgs, labels = imgs.to(device), labels.to(device)\n",
    "                preds = model(imgs).argmax(dim=1)\n",
    "                correct += (preds == labels).sum().item()\n",
    "                total   += labels.size(0)\n",
    "        acc = correct/total\n",
    "        tf.summary.scalar(METRIC_ACCURACY, acc, step=1)\n",
    "        return acc"
   ]
  },
  {
   "cell_type": "code",
   "execution_count": null,
   "metadata": {},
   "outputs": [],
   "source": [
    "lrs  = [1e-4, 3e-4, 1e-3, 3e-3, 1e-2]\n",
    "wds  = [1e-5, 1e-4, 1e-3]\n",
    "n_trials = 10\n",
    "\n",
    "HP_LR = hp.HParam('lr', hp.RealInterval(1e-4,1e-2))\n",
    "HP_WD = hp.HParam('weight_decay', hp.RealInterval(0,1e-3))\n",
    "\n",
    "METRIC_ACCURACY = 'accuracy'\n",
    "\n",
    "with tf.summary.create_file_writer('logs/hparam_tuning').as_default():\n",
    "    hp.hparams_config(hparams=[HP_LR,HP_WD], metrics=[hp.Metric(METRIC_ACCURACY, display_name='Accuracy')])\n",
    "\n",
    "best_acc = 0.0\n",
    "best_cfg = None\n",
    "session_num = 0\n",
    "\n",
    "for _ in trange(n_trials, desc=\"Random Search\"):\n",
    "    \n",
    "    log_lr_min, log_lr_max = math.log10(1e-4), math.log10(1e-2)\n",
    "    log_wd_min, log_wd_max = math.log10(1e-5), math.log10(1e-3)\n",
    "    \n",
    "    sampled_log_lr = random.uniform(log_lr_min, log_lr_max)\n",
    "    sampled_log_wd = random.uniform(log_wd_min, log_wd_max)\n",
    "    \n",
    "    lr = 10**sampled_log_lr\n",
    "    wd = 10**sampled_log_wd\n",
    "    \n",
    "\n",
    "    hparams = {HP_LR:lr,HP_WD:wd}\n",
    "    run_name = \"run-%d\" % session_num\n",
    "    print('--- Starting trial: %s' % run_name)\n",
    "    print({h.name: hparams[h] for h in hparams})\n",
    "    acc = run('logs/hparam_tuning/'+ run_name, hparams)\n",
    "    session_num += 1\n",
    "    \n",
    "    if acc > best_acc:\n",
    "        best_acc = acc\n",
    "        best_cfg = {\"lr\": lr, \"weight_decay\": wd}\n",
    "\n",
    "print(f\"Best val‑acc: {best_acc*100:.2f}% with {best_cfg}\")"
   ]
  }
 ],
 "metadata": {
  "accelerator": "GPU",
  "colab": {
   "gpuType": "T4",
   "include_colab_link": true,
   "provenance": []
  },
  "kernelspec": {
   "display_name": "Python 3 (ipykernel)",
   "language": "python",
   "name": "python3"
  },
  "language_info": {
   "codemirror_mode": {
    "name": "ipython",
    "version": 3
   },
   "file_extension": ".py",
   "mimetype": "text/x-python",
   "name": "python",
   "nbconvert_exporter": "python",
   "pygments_lexer": "ipython3",
   "version": "3.10.13"
  }
 },
 "nbformat": 4,
 "nbformat_minor": 4
}
